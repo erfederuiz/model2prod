{
 "cells": [
  {
   "cell_type": "code",
   "execution_count": 1,
   "metadata": {},
   "outputs": [],
   "source": [
    "# librerias\n",
    "from statsmodels.tsa.stattools import pacf\n",
    "from statsmodels.tsa.stattools import acf\n",
    "from statsmodels.graphics.tsaplots import plot_pacf\n",
    "from statsmodels.graphics.tsaplots import plot_acf\n",
    "from statsmodels.tsa.stattools import adfuller\n",
    "\n",
    "from pmdarima.arima import auto_arima\n",
    "from pmdarima.arima import ARIMA\n",
    "\n",
    "from sklearn.model_selection import train_test_split\n",
    "\n",
    "import matplotlib.pyplot as plt\n",
    "import pandas as pd\n",
    "import numpy as np\n",
    "from sklearn.metrics import mean_squared_error\n",
    "from sklearn.metrics import mean_absolute_error\n",
    "import warnings\n",
    "warnings.filterwarnings('ignore')"
   ]
  },
  {
   "cell_type": "code",
   "execution_count": 3,
   "metadata": {},
   "outputs": [
    {
     "name": "stdout",
     "output_type": "stream",
     "text": [
      "45204\n"
     ]
    },
    {
     "data": {
      "text/html": [
       "<div>\n",
       "<style scoped>\n",
       "    .dataframe tbody tr th:only-of-type {\n",
       "        vertical-align: middle;\n",
       "    }\n",
       "\n",
       "    .dataframe tbody tr th {\n",
       "        vertical-align: top;\n",
       "    }\n",
       "\n",
       "    .dataframe thead th {\n",
       "        text-align: right;\n",
       "    }\n",
       "</style>\n",
       "<table border=\"1\" class=\"dataframe\">\n",
       "  <thead>\n",
       "    <tr style=\"text-align: right;\">\n",
       "      <th></th>\n",
       "      <th>NO2 (µg/m³)</th>\n",
       "      <th>CH (mg/m3)</th>\n",
       "      <th>not CH4 (mg/m3)</th>\n",
       "      <th>SP (µg/m³)</th>\n",
       "      <th>NO (µg/m³)</th>\n",
       "      <th>O3 (µg/m³)</th>\n",
       "      <th>Toluene (µg/m³)</th>\n",
       "      <th>Benzene (µg/m³)</th>\n",
       "    </tr>\n",
       "    <tr>\n",
       "      <th>Fecha</th>\n",
       "      <th></th>\n",
       "      <th></th>\n",
       "      <th></th>\n",
       "      <th></th>\n",
       "      <th></th>\n",
       "      <th></th>\n",
       "      <th></th>\n",
       "      <th></th>\n",
       "    </tr>\n",
       "  </thead>\n",
       "  <tbody>\n",
       "    <tr>\n",
       "      <th>2016-01-01T00:00:00.000Z</th>\n",
       "      <td>50.0</td>\n",
       "      <td>7.5</td>\n",
       "      <td>0.1</td>\n",
       "      <td>40.0</td>\n",
       "      <td>25.0</td>\n",
       "      <td>2.0</td>\n",
       "      <td>1.8</td>\n",
       "      <td>0.7</td>\n",
       "    </tr>\n",
       "    <tr>\n",
       "      <th>2016-01-01T01:00:00.000Z</th>\n",
       "      <td>54.0</td>\n",
       "      <td>9.4</td>\n",
       "      <td>0.1</td>\n",
       "      <td>52.0</td>\n",
       "      <td>40.0</td>\n",
       "      <td>2.0</td>\n",
       "      <td>3.0</td>\n",
       "      <td>0.8</td>\n",
       "    </tr>\n",
       "    <tr>\n",
       "      <th>2016-01-01T02:00:00.000Z</th>\n",
       "      <td>58.0</td>\n",
       "      <td>8.4</td>\n",
       "      <td>0.2</td>\n",
       "      <td>76.0</td>\n",
       "      <td>62.0</td>\n",
       "      <td>2.0</td>\n",
       "      <td>2.8</td>\n",
       "      <td>1.1</td>\n",
       "    </tr>\n",
       "    <tr>\n",
       "      <th>2016-01-01T03:00:00.000Z</th>\n",
       "      <td>48.0</td>\n",
       "      <td>6.7</td>\n",
       "      <td>0.1</td>\n",
       "      <td>55.0</td>\n",
       "      <td>14.0</td>\n",
       "      <td>4.0</td>\n",
       "      <td>1.3</td>\n",
       "      <td>0.7</td>\n",
       "    </tr>\n",
       "    <tr>\n",
       "      <th>2016-01-01T04:00:00.000Z</th>\n",
       "      <td>49.0</td>\n",
       "      <td>7.0</td>\n",
       "      <td>0.1</td>\n",
       "      <td>31.0</td>\n",
       "      <td>22.0</td>\n",
       "      <td>1.0</td>\n",
       "      <td>0.5</td>\n",
       "      <td>0.5</td>\n",
       "    </tr>\n",
       "  </tbody>\n",
       "</table>\n",
       "</div>"
      ],
      "text/plain": [
       "                          NO2 (µg/m³)  CH (mg/m3)  not CH4 (mg/m3)  \\\n",
       "Fecha                                                                \n",
       "2016-01-01T00:00:00.000Z         50.0         7.5              0.1   \n",
       "2016-01-01T01:00:00.000Z         54.0         9.4              0.1   \n",
       "2016-01-01T02:00:00.000Z         58.0         8.4              0.2   \n",
       "2016-01-01T03:00:00.000Z         48.0         6.7              0.1   \n",
       "2016-01-01T04:00:00.000Z         49.0         7.0              0.1   \n",
       "\n",
       "                          SP (µg/m³)  NO (µg/m³)  O3 (µg/m³)  Toluene (µg/m³)  \\\n",
       "Fecha                                                                           \n",
       "2016-01-01T00:00:00.000Z        40.0        25.0         2.0              1.8   \n",
       "2016-01-01T01:00:00.000Z        52.0        40.0         2.0              3.0   \n",
       "2016-01-01T02:00:00.000Z        76.0        62.0         2.0              2.8   \n",
       "2016-01-01T03:00:00.000Z        55.0        14.0         4.0              1.3   \n",
       "2016-01-01T04:00:00.000Z        31.0        22.0         1.0              0.5   \n",
       "\n",
       "                          Benzene (µg/m³)  \n",
       "Fecha                                      \n",
       "2016-01-01T00:00:00.000Z              0.7  \n",
       "2016-01-01T01:00:00.000Z              0.8  \n",
       "2016-01-01T02:00:00.000Z              1.1  \n",
       "2016-01-01T03:00:00.000Z              0.7  \n",
       "2016-01-01T04:00:00.000Z              0.5  "
      ]
     },
     "execution_count": 3,
     "metadata": {},
     "output_type": "execute_result"
    }
   ],
   "source": [
    "metano_df = pd.read_csv('contaminantes.csv', header=0, index_col=0)\n",
    "print(len(metano_df))\n",
    "metano_df.head()"
   ]
  },
  {
   "cell_type": "code",
   "execution_count": 4,
   "metadata": {},
   "outputs": [],
   "source": [
    "metano_df.dropna(inplace=True)"
   ]
  },
  {
   "cell_type": "code",
   "execution_count": 5,
   "metadata": {},
   "outputs": [
    {
     "name": "stdout",
     "output_type": "stream",
     "text": [
      "Index(['NO2 (µg/m³)', 'CH (mg/m3)', 'not CH4 (mg/m3)', 'SP (µg/m³)',\n",
      "       'NO (µg/m³)', 'O3 (µg/m³)', 'Toluene (µg/m³)', 'Benzene (µg/m³)'],\n",
      "      dtype='object')\n"
     ]
    },
    {
     "data": {
      "text/plain": [
       "35131"
      ]
     },
     "execution_count": 5,
     "metadata": {},
     "output_type": "execute_result"
    }
   ],
   "source": [
    "print(metano_df.columns)\n",
    "len(metano_df)"
   ]
  },
  {
   "cell_type": "markdown",
   "metadata": {},
   "source": [
    "## Modelo ARIMA para una columna como target"
   ]
  },
  {
   "cell_type": "code",
   "execution_count": 6,
   "metadata": {},
   "outputs": [],
   "source": [
    "def model_arima(df, column_name= None, train_size= 0.8, start_p= 1, start_q= 1, max_p=5, max_q= 5, max_d= 3): \n",
    "    \"\"\" \n",
    "    Function description:\n",
    "    The function trains an ARIMA model for a given Time Series.\n",
    "    We split train and test using the parameter train_size (from 0 to 1 where 0.5 is 50%)\n",
    "    Then we call the auto-arima function to get the best parameters\n",
    "    Finally we use those best params to train our ARIMA model\n",
    "    \n",
    "    ARIMA Model:\n",
    "    We can combine both Autoregressive (AR) and Moving Average (MA) models together to create an ARMA model. The time series is regressed on the previous values and the previous errors.\n",
    "    For ARMA(p, q), p is the order of the AR process and q is the order of the MA process.\n",
    "\n",
    "    Parameters:\n",
    "    df (Pandas DataFrame type): is the given dataframe\n",
    "\n",
    "    column_name (string): the chosen column to create new columns from\n",
    "\n",
    "    train_size (float): value from 0 to 1 where 0.5 is 50% representing the % of our data \n",
    "    that will be used to train the mdoel\n",
    "\n",
    "    start_p (int): initial value for p parameter. By default 1\n",
    "    \n",
    "    start_q (int): initial value for q parameter. By default 1\n",
    "\n",
    "    max_p (int): max value for p parameter. By default 5\n",
    "\n",
    "    max_q (int): max value for q parameter. By default 5\n",
    "\n",
    "    max_d (int): max value for d parameter. By default 3\n",
    "\n",
    "    return: our trained ARIMA model\n",
    "    \"\"\"\n",
    "    df_lenght = len(df)\n",
    "    train_cut_point = int(train_size * df_lenght)\n",
    "\n",
    "    train = df[column_name][:train_cut_point]\n",
    "\n",
    "    model_aa = auto_arima(train,\n",
    "                        start_p = start_p,\n",
    "                        start_q = start_q,\n",
    "                        max_p = max_p,\n",
    "                        max_q = max_q,\n",
    "                        max_d = max_d,\n",
    "                        trace=True)\n",
    "\n",
    "    best_order = model_aa.order\n",
    "\n",
    "    model = ARIMA(order= best_order)\n",
    "    model_for_pickle = model.fit(train)\n",
    "    \n",
    "    return model_for_pickle"
   ]
  },
  {
   "cell_type": "code",
   "execution_count": null,
   "metadata": {},
   "outputs": [],
   "source": [
    "#predictions = model.predict(n_periods= len(test))\n",
    "#print(\"mean_squared_error:\", mean_squared_error(test, predictions))"
   ]
  },
  {
   "cell_type": "markdown",
   "metadata": {},
   "source": [
    "#### Llamamos a la funcion del modelo"
   ]
  },
  {
   "cell_type": "code",
   "execution_count": 7,
   "metadata": {},
   "outputs": [
    {
     "name": "stdout",
     "output_type": "stream",
     "text": [
      "Performing stepwise search to minimize aic\n",
      " ARIMA(1,1,1)(0,0,0)[0] intercept   : AIC=215909.146, Time=6.17 sec\n",
      " ARIMA(0,1,0)(0,0,0)[0] intercept   : AIC=217994.031, Time=0.86 sec\n",
      " ARIMA(1,1,0)(0,0,0)[0] intercept   : AIC=216348.901, Time=0.89 sec\n",
      " ARIMA(0,1,1)(0,0,0)[0] intercept   : AIC=215935.421, Time=5.90 sec\n",
      " ARIMA(0,1,0)(0,0,0)[0]             : AIC=217992.032, Time=0.51 sec\n",
      " ARIMA(2,1,1)(0,0,0)[0] intercept   : AIC=212816.623, Time=18.34 sec\n",
      " ARIMA(2,1,0)(0,0,0)[0] intercept   : AIC=215593.116, Time=3.85 sec\n",
      " ARIMA(3,1,1)(0,0,0)[0] intercept   : AIC=212805.209, Time=40.28 sec\n",
      " ARIMA(3,1,0)(0,0,0)[0] intercept   : AIC=215337.322, Time=5.92 sec\n",
      " ARIMA(4,1,1)(0,0,0)[0] intercept   : AIC=212782.351, Time=65.14 sec\n",
      " ARIMA(4,1,0)(0,0,0)[0] intercept   : AIC=215014.654, Time=8.95 sec\n",
      " ARIMA(5,1,1)(0,0,0)[0] intercept   : AIC=212780.448, Time=81.08 sec\n",
      " ARIMA(5,1,0)(0,0,0)[0] intercept   : AIC=214691.504, Time=7.79 sec\n",
      " ARIMA(5,1,2)(0,0,0)[0] intercept   : AIC=212782.556, Time=63.33 sec\n",
      " ARIMA(4,1,2)(0,0,0)[0] intercept   : AIC=212809.209, Time=56.26 sec\n",
      " ARIMA(5,1,1)(0,0,0)[0]             : AIC=212778.452, Time=24.18 sec\n",
      " ARIMA(4,1,1)(0,0,0)[0]             : AIC=212780.355, Time=14.67 sec\n",
      " ARIMA(5,1,0)(0,0,0)[0]             : AIC=214689.505, Time=2.74 sec\n",
      " ARIMA(5,1,2)(0,0,0)[0]             : AIC=212780.560, Time=19.61 sec\n",
      " ARIMA(4,1,0)(0,0,0)[0]             : AIC=215012.655, Time=2.18 sec\n",
      " ARIMA(4,1,2)(0,0,0)[0]             : AIC=212807.213, Time=17.53 sec\n",
      "\n",
      "Best model:  ARIMA(5,1,1)(0,0,0)[0]          \n",
      "Total fit time: 446.241 seconds\n"
     ]
    }
   ],
   "source": [
    "modelo = model_arima(metano_df, 'NO2 (µg/m³)')"
   ]
  },
  {
   "cell_type": "markdown",
   "metadata": {},
   "source": [
    "####  Guardamos el modelo"
   ]
  },
  {
   "cell_type": "code",
   "execution_count": 8,
   "metadata": {},
   "outputs": [],
   "source": [
    "# Guardar el modelo\n",
    "import pickle\n",
    "\n",
    "with open('finished_model_arima.model', \"wb\") as archivo_salida:\n",
    "    pickle.dump(modelo, archivo_salida)"
   ]
  },
  {
   "cell_type": "markdown",
   "metadata": {},
   "source": [
    "#### Abrimos el modelo para comprobar que se ha guardado correctamente"
   ]
  },
  {
   "cell_type": "code",
   "execution_count": 9,
   "metadata": {},
   "outputs": [
    {
     "name": "stdout",
     "output_type": "stream",
     "text": [
      " ARIMA(5,1,1)(0,0,0)[0] intercept\n"
     ]
    }
   ],
   "source": [
    "# Para volver a leer el modelo\n",
    "with open('finished_model∫_arima.model', \"rb\") as archivo_entrada:\n",
    "    modelo_arima = pickle.load(archivo_entrada)\n",
    "    \n",
    "print(modelo_arima)"
   ]
  },
  {
   "cell_type": "markdown",
   "metadata": {},
   "source": [
    "#### Predecimos"
   ]
  },
  {
   "cell_type": "code",
   "execution_count": 10,
   "metadata": {},
   "outputs": [
    {
     "data": {
      "text/plain": [
       "array([13.23029504, 13.48920768, 13.69252769, 13.83391184, 13.92356939,\n",
       "       13.97227635, 13.99229046, 13.9950331 , 13.9890949 , 13.98004709])"
      ]
     },
     "execution_count": 10,
     "metadata": {},
     "output_type": "execute_result"
    }
   ],
   "source": [
    "modelo.predict(10)"
   ]
  },
  {
   "cell_type": "markdown",
   "metadata": {},
   "source": [
    "#### Calculando los errores"
   ]
  },
  {
   "cell_type": "code",
   "execution_count": 11,
   "metadata": {},
   "outputs": [
    {
     "name": "stdout",
     "output_type": "stream",
     "text": [
      "mean_squared_error: 649.0310017032789\n",
      "mean_absolute_error: 16.388388191314302\n"
     ]
    }
   ],
   "source": [
    "test = metano_df['NO2 (µg/m³)'][10001:12000]\n",
    "predictions = modelo.predict(n_periods= len(test))\n",
    "print(\"mean_squared_error:\", mean_squared_error(test, predictions))\n",
    "print(\"mean_absolute_error:\", mean_absolute_error(test, predictions))"
   ]
  },
  {
   "cell_type": "markdown",
   "metadata": {},
   "source": [
    "## Modelo ARIMA con bucle for para varias columnas"
   ]
  },
  {
   "cell_type": "code",
   "execution_count": 12,
   "metadata": {},
   "outputs": [],
   "source": [
    "def model_arima_multiple(df, train_size= 0.8, start_p= 1, start_q= 1, max_p=5, max_q= 5, max_d=3):\n",
    "    \"\"\" \n",
    "    Function description:\n",
    "    The function trains an ARIMA model for a given Time Series with multiple variables\n",
    "    The function will train an ARIMA model for each given variable in a dataframe\n",
    "    We split train and test using the parameter train_size (from 0 to 1 where 0.5 is 50%)\n",
    "    Then we call the auto-arima function to get the best parameters\n",
    "    Finally we use those best params to train our ARIMA model\n",
    "    \n",
    "    ARIMA Model:\n",
    "    We can combine both Autoregressive (AR) and Moving Average (MA) models together to create an ARMA model. The time series is regressed on the previous values and the previous errors.\n",
    "    For ARMA(p, q), p is the order of the AR process and q is the order of the MA process.\n",
    "\n",
    "    Parameters:\n",
    "    df (Pandas DataFrame type): is the given dataframe\n",
    "\n",
    "    column_name (string): the chosen column to create new columns from\n",
    "\n",
    "    train_size (float): value from 0 to 1 where 0.5 is 50% representing the % of our data \n",
    "    that will be used to train the mdoel\n",
    "\n",
    "    start_p (int): initial value for p parameter. By default 1\n",
    "    \n",
    "    start_q (int): initial value for q parameter. By default 1\n",
    "\n",
    "    max_p (int): max value for p parameter. By default 5\n",
    "\n",
    "    max_q (int): max value for q parameter. By default 5\n",
    "\n",
    "    max_d (int): max value for d parameter. By default 3\n",
    "\n",
    "    return: our trained ARIMA model\n",
    "    \"\"\"\n",
    "    list_columns = list(df.columns)\n",
    "    list_models = []\n",
    "    for i in list_columns:\n",
    "        df_lenght = len(df)\n",
    "        train_cut_point = int(train_size * df_lenght)\n",
    "        train = df[i][:train_cut_point]\n",
    "\n",
    "        model = auto_arima(train,\n",
    "                        start_p = start_p,\n",
    "                        start_q = start_q,\n",
    "                        max_p = max_p,\n",
    "                        max_q = max_q,\n",
    "                        max_d = max_d,\n",
    "                        trace=True\n",
    "                        )\n",
    "\n",
    "        best_order = model.order\n",
    "\n",
    "        model = ARIMA(order= best_order)\n",
    "        model_for_pickle = model.fit(train)\n",
    "        list_models.append(model_for_pickle)\n",
    "    \n",
    "    return list_models"
   ]
  },
  {
   "cell_type": "code",
   "execution_count": 13,
   "metadata": {},
   "outputs": [
    {
     "name": "stdout",
     "output_type": "stream",
     "text": [
      "Performing stepwise search to minimize aic\n",
      " ARIMA(1,1,1)(0,0,0)[0] intercept   : AIC=215909.146, Time=7.32 sec\n",
      " ARIMA(0,1,0)(0,0,0)[0] intercept   : AIC=217994.031, Time=1.09 sec\n",
      " ARIMA(1,1,0)(0,0,0)[0] intercept   : AIC=216348.901, Time=1.12 sec\n",
      " ARIMA(0,1,1)(0,0,0)[0] intercept   : AIC=215935.421, Time=6.76 sec\n",
      " ARIMA(0,1,0)(0,0,0)[0]             : AIC=217992.032, Time=0.89 sec\n",
      " ARIMA(2,1,1)(0,0,0)[0] intercept   : AIC=212816.623, Time=22.89 sec\n",
      " ARIMA(2,1,0)(0,0,0)[0] intercept   : AIC=215593.116, Time=6.35 sec\n",
      " ARIMA(2,1,2)(0,0,0)[0] intercept   : AIC=inf, Time=93.84 sec\n",
      " ARIMA(1,1,2)(0,0,0)[0] intercept   : AIC=213058.863, Time=48.85 sec\n",
      " ARIMA(2,1,1)(0,0,0)[0]             : AIC=212814.627, Time=7.68 sec\n",
      " ARIMA(1,1,1)(0,0,0)[0]             : AIC=215907.146, Time=4.25 sec\n",
      " ARIMA(2,1,0)(0,0,0)[0]             : AIC=215591.116, Time=1.58 sec\n",
      " ARIMA(2,1,2)(0,0,0)[0]             : AIC=inf, Time=26.22 sec\n",
      " ARIMA(1,1,0)(0,0,0)[0]             : AIC=216346.901, Time=0.76 sec\n",
      " ARIMA(1,1,2)(0,0,0)[0]             : AIC=213056.866, Time=10.42 sec\n",
      "\n",
      "Best model:  ARIMA(2,1,1)(0,0,0)[0]          \n",
      "Total fit time: 240.070 seconds\n",
      "Performing stepwise search to minimize aic\n",
      " ARIMA(1,1,1)(0,0,0)[0] intercept   : AIC=9467.677, Time=16.87 sec\n",
      " ARIMA(0,1,0)(0,0,0)[0] intercept   : AIC=9645.339, Time=4.58 sec\n",
      " ARIMA(1,1,0)(0,0,0)[0] intercept   : AIC=9563.135, Time=4.46 sec\n",
      " ARIMA(0,1,1)(0,0,0)[0] intercept   : AIC=9544.511, Time=10.63 sec\n",
      " ARIMA(0,1,0)(0,0,0)[0]             : AIC=9643.355, Time=0.97 sec\n",
      " ARIMA(2,1,1)(0,0,0)[0] intercept   : AIC=8083.346, Time=37.93 sec\n",
      " ARIMA(2,1,0)(0,0,0)[0] intercept   : AIC=9305.467, Time=7.10 sec\n",
      " ARIMA(2,1,2)(0,0,0)[0] intercept   : AIC=inf, Time=30.57 sec\n",
      " ARIMA(1,1,2)(0,0,0)[0] intercept   : AIC=8075.944, Time=49.19 sec\n",
      " ARIMA(0,1,2)(0,0,0)[0] intercept   : AIC=9315.577, Time=13.51 sec\n",
      " ARIMA(1,1,2)(0,0,0)[0]             : AIC=8074.155, Time=9.19 sec\n",
      " ARIMA(0,1,2)(0,0,0)[0]             : AIC=9313.595, Time=2.39 sec\n",
      " ARIMA(1,1,1)(0,0,0)[0]             : AIC=9465.691, Time=5.31 sec\n",
      " ARIMA(2,1,2)(0,0,0)[0]             : AIC=8076.055, Time=13.17 sec\n",
      " ARIMA(0,1,1)(0,0,0)[0]             : AIC=9542.525, Time=1.38 sec\n",
      " ARIMA(2,1,1)(0,0,0)[0]             : AIC=8081.551, Time=5.42 sec\n",
      "\n",
      "Best model:  ARIMA(1,1,2)(0,0,0)[0]          \n",
      "Total fit time: 212.708 seconds\n",
      "Performing stepwise search to minimize aic\n",
      " ARIMA(1,1,1)(0,0,0)[0] intercept   : AIC=-35839.066, Time=39.53 sec\n",
      " ARIMA(0,1,0)(0,0,0)[0] intercept   : AIC=-34900.454, Time=5.19 sec\n",
      " ARIMA(1,1,0)(0,0,0)[0] intercept   : AIC=-34926.956, Time=2.79 sec\n",
      " ARIMA(0,1,1)(0,0,0)[0] intercept   : AIC=-34935.194, Time=8.62 sec\n",
      " ARIMA(0,1,0)(0,0,0)[0]             : AIC=-34902.454, Time=1.61 sec\n",
      " ARIMA(2,1,1)(0,0,0)[0] intercept   : AIC=-35937.368, Time=26.06 sec\n",
      " ARIMA(2,1,0)(0,0,0)[0] intercept   : AIC=-35268.943, Time=4.59 sec\n",
      " ARIMA(2,1,2)(0,0,0)[0] intercept   : AIC=-35949.557, Time=63.75 sec\n",
      " ARIMA(1,1,2)(0,0,0)[0] intercept   : AIC=-35943.717, Time=32.62 sec\n",
      " ARIMA(2,1,2)(0,0,0)[0]             : AIC=-35951.562, Time=13.03 sec\n",
      " ARIMA(1,1,2)(0,0,0)[0]             : AIC=-35945.721, Time=7.27 sec\n",
      " ARIMA(2,1,1)(0,0,0)[0]             : AIC=-35939.372, Time=12.50 sec\n",
      " ARIMA(1,1,1)(0,0,0)[0]             : AIC=-35841.072, Time=8.35 sec\n",
      "\n",
      "Best model:  ARIMA(2,1,2)(0,0,0)[0]          \n",
      "Total fit time: 225.941 seconds\n",
      "Performing stepwise search to minimize aic\n",
      " ARIMA(1,1,1)(0,0,0)[0] intercept   : AIC=190324.842, Time=22.35 sec\n",
      " ARIMA(0,1,0)(0,0,0)[0] intercept   : AIC=191573.665, Time=1.02 sec\n",
      " ARIMA(1,1,0)(0,0,0)[0] intercept   : AIC=191560.341, Time=1.07 sec\n",
      " ARIMA(0,1,1)(0,0,0)[0] intercept   : AIC=191554.690, Time=4.30 sec\n",
      " ARIMA(0,1,0)(0,0,0)[0]             : AIC=191571.665, Time=0.63 sec\n",
      " ARIMA(2,1,1)(0,0,0)[0] intercept   : AIC=189967.686, Time=15.56 sec\n",
      " ARIMA(2,1,0)(0,0,0)[0] intercept   : AIC=191025.650, Time=3.62 sec\n",
      " ARIMA(2,1,2)(0,0,0)[0] intercept   : AIC=189930.702, Time=38.79 sec\n",
      " ARIMA(1,1,2)(0,0,0)[0] intercept   : AIC=189937.450, Time=15.63 sec\n",
      " ARIMA(2,1,2)(0,0,0)[0]             : AIC=189928.703, Time=8.51 sec\n",
      " ARIMA(1,1,2)(0,0,0)[0]             : AIC=189935.450, Time=3.95 sec\n",
      " ARIMA(2,1,1)(0,0,0)[0]             : AIC=189965.686, Time=4.23 sec\n",
      " ARIMA(1,1,1)(0,0,0)[0]             : AIC=190322.843, Time=5.30 sec\n",
      "\n",
      "Best model:  ARIMA(2,1,2)(0,0,0)[0]          \n",
      "Total fit time: 125.080 seconds\n",
      "Performing stepwise search to minimize aic\n",
      " ARIMA(1,1,1)(0,0,0)[0] intercept   : AIC=248693.422, Time=10.53 sec\n",
      " ARIMA(0,1,0)(0,0,0)[0] intercept   : AIC=249914.555, Time=0.87 sec\n",
      " ARIMA(1,1,0)(0,0,0)[0] intercept   : AIC=249161.050, Time=1.04 sec\n",
      " ARIMA(0,1,1)(0,0,0)[0] intercept   : AIC=248834.787, Time=6.68 sec\n",
      " ARIMA(0,1,0)(0,0,0)[0]             : AIC=249912.555, Time=0.63 sec\n",
      " ARIMA(2,1,1)(0,0,0)[0] intercept   : AIC=244734.213, Time=17.49 sec\n",
      " ARIMA(2,1,0)(0,0,0)[0] intercept   : AIC=248030.385, Time=3.53 sec\n",
      " ARIMA(2,1,2)(0,0,0)[0] intercept   : AIC=244721.288, Time=42.67 sec\n",
      " ARIMA(1,1,2)(0,0,0)[0] intercept   : AIC=244923.990, Time=25.27 sec\n",
      " ARIMA(2,1,2)(0,0,0)[0]             : AIC=244719.289, Time=10.47 sec\n",
      " ARIMA(1,1,2)(0,0,0)[0]             : AIC=244921.991, Time=9.49 sec\n",
      " ARIMA(2,1,1)(0,0,0)[0]             : AIC=244732.214, Time=5.13 sec\n",
      " ARIMA(1,1,1)(0,0,0)[0]             : AIC=248691.422, Time=4.09 sec\n",
      "\n",
      "Best model:  ARIMA(2,1,2)(0,0,0)[0]          \n",
      "Total fit time: 137.913 seconds\n",
      "Performing stepwise search to minimize aic\n",
      " ARIMA(1,1,1)(0,0,0)[0] intercept   : AIC=218980.728, Time=5.85 sec\n",
      " ARIMA(0,1,0)(0,0,0)[0] intercept   : AIC=221687.945, Time=1.12 sec\n",
      " ARIMA(1,1,0)(0,0,0)[0] intercept   : AIC=219122.968, Time=1.68 sec\n",
      " ARIMA(0,1,1)(0,0,0)[0] intercept   : AIC=219006.035, Time=7.15 sec\n",
      " ARIMA(0,1,0)(0,0,0)[0]             : AIC=221685.946, Time=0.64 sec\n",
      " ARIMA(2,1,1)(0,0,0)[0] intercept   : AIC=inf, Time=33.23 sec\n",
      " ARIMA(1,1,2)(0,0,0)[0] intercept   : AIC=218976.409, Time=27.30 sec\n",
      " ARIMA(0,1,2)(0,0,0)[0] intercept   : AIC=218977.393, Time=11.00 sec\n",
      " ARIMA(2,1,2)(0,0,0)[0] intercept   : AIC=216380.194, Time=57.08 sec\n",
      " ARIMA(2,1,2)(0,0,0)[0]             : AIC=216378.257, Time=14.73 sec\n",
      " ARIMA(1,1,2)(0,0,0)[0]             : AIC=218974.410, Time=7.77 sec\n",
      " ARIMA(2,1,1)(0,0,0)[0]             : AIC=inf, Time=6.62 sec\n",
      " ARIMA(1,1,1)(0,0,0)[0]             : AIC=218978.728, Time=1.74 sec\n",
      "\n",
      "Best model:  ARIMA(2,1,2)(0,0,0)[0]          \n",
      "Total fit time: 175.930 seconds\n",
      "Performing stepwise search to minimize aic\n",
      " ARIMA(1,1,1)(0,0,0)[0] intercept   : AIC=113114.862, Time=18.89 sec\n",
      " ARIMA(0,1,0)(0,0,0)[0] intercept   : AIC=115383.060, Time=1.26 sec\n",
      " ARIMA(1,1,0)(0,0,0)[0] intercept   : AIC=115366.296, Time=2.92 sec\n",
      " ARIMA(0,1,1)(0,0,0)[0] intercept   : AIC=115359.881, Time=4.82 sec\n",
      " ARIMA(0,1,0)(0,0,0)[0]             : AIC=115381.060, Time=0.69 sec\n",
      " ARIMA(2,1,1)(0,0,0)[0] intercept   : AIC=112980.895, Time=29.57 sec\n",
      " ARIMA(2,1,0)(0,0,0)[0] intercept   : AIC=114923.192, Time=3.49 sec\n",
      " ARIMA(2,1,2)(0,0,0)[0] intercept   : AIC=112952.265, Time=67.96 sec\n",
      " ARIMA(1,1,2)(0,0,0)[0] intercept   : AIC=112969.143, Time=27.44 sec\n",
      " ARIMA(2,1,2)(0,0,0)[0]             : AIC=112950.266, Time=9.50 sec\n",
      " ARIMA(1,1,2)(0,0,0)[0]             : AIC=112967.144, Time=4.74 sec\n",
      " ARIMA(2,1,1)(0,0,0)[0]             : AIC=112978.895, Time=5.45 sec\n",
      " ARIMA(1,1,1)(0,0,0)[0]             : AIC=113112.863, Time=3.79 sec\n",
      "\n",
      "Best model:  ARIMA(2,1,2)(0,0,0)[0]          \n",
      "Total fit time: 180.542 seconds\n",
      "Performing stepwise search to minimize aic\n",
      " ARIMA(1,1,1)(0,0,0)[0] intercept   : AIC=39296.116, Time=19.31 sec\n",
      " ARIMA(0,1,0)(0,0,0)[0] intercept   : AIC=46943.762, Time=3.45 sec\n",
      " ARIMA(1,1,0)(0,0,0)[0] intercept   : AIC=45231.158, Time=2.12 sec\n",
      " ARIMA(0,1,1)(0,0,0)[0] intercept   : AIC=43518.248, Time=6.04 sec\n",
      " ARIMA(0,1,0)(0,0,0)[0]             : AIC=46941.762, Time=0.58 sec\n",
      " ARIMA(2,1,1)(0,0,0)[0] intercept   : AIC=39289.603, Time=61.90 sec\n",
      " ARIMA(2,1,0)(0,0,0)[0] intercept   : AIC=43688.893, Time=3.73 sec\n",
      " ARIMA(2,1,2)(0,0,0)[0] intercept   : AIC=39284.089, Time=38.23 sec\n",
      " ARIMA(1,1,2)(0,0,0)[0] intercept   : AIC=39288.419, Time=47.25 sec\n",
      " ARIMA(2,1,2)(0,0,0)[0]             : AIC=39270.882, Time=18.13 sec\n",
      " ARIMA(1,1,2)(0,0,0)[0]             : AIC=39286.415, Time=6.21 sec\n",
      " ARIMA(2,1,1)(0,0,0)[0]             : AIC=39287.600, Time=5.43 sec\n",
      " ARIMA(1,1,1)(0,0,0)[0]             : AIC=39294.111, Time=4.28 sec\n",
      "\n",
      "Best model:  ARIMA(2,1,2)(0,0,0)[0]          \n",
      "Total fit time: 216.685 seconds\n"
     ]
    }
   ],
   "source": [
    "list_models = model_arima_multiple(metano_df, train_size= 0.8, start_p= 1, start_q= 1, max_p=2, max_q= 2, max_d=2)"
   ]
  },
  {
   "cell_type": "code",
   "execution_count": 14,
   "metadata": {},
   "outputs": [
    {
     "data": {
      "text/plain": [
       "[ARIMA(order=(2, 1, 1)),\n",
       " ARIMA(order=(1, 1, 2)),\n",
       " ARIMA(order=(2, 1, 2)),\n",
       " ARIMA(order=(2, 1, 2)),\n",
       " ARIMA(order=(2, 1, 2)),\n",
       " ARIMA(order=(2, 1, 2)),\n",
       " ARIMA(order=(2, 1, 2)),\n",
       " ARIMA(order=(2, 1, 2))]"
      ]
     },
     "execution_count": 14,
     "metadata": {},
     "output_type": "execute_result"
    }
   ],
   "source": [
    "list_models"
   ]
  },
  {
   "cell_type": "markdown",
   "metadata": {},
   "source": [
    "#### Guardamos el pickle del modelo multiple"
   ]
  },
  {
   "cell_type": "code",
   "execution_count": 15,
   "metadata": {},
   "outputs": [],
   "source": [
    "# Guardar el modelo\n",
    "import pickle\n",
    "\n",
    "with open('finished_model_arima_multiple.model', \"wb\") as archivo_salida:\n",
    "    pickle.dump(list_models, archivo_salida)"
   ]
  },
  {
   "cell_type": "markdown",
   "metadata": {},
   "source": [
    "#### Comprobamos que funciona"
   ]
  },
  {
   "cell_type": "code",
   "execution_count": 16,
   "metadata": {},
   "outputs": [
    {
     "name": "stdout",
     "output_type": "stream",
     "text": [
      "[ARIMA(order=(2, 1, 1)), ARIMA(order=(1, 1, 2)), ARIMA(order=(2, 1, 2)), ARIMA(order=(2, 1, 2)), ARIMA(order=(2, 1, 2)), ARIMA(order=(2, 1, 2)), ARIMA(order=(2, 1, 2)), ARIMA(order=(2, 1, 2))]\n"
     ]
    }
   ],
   "source": [
    "# Para volver a leer el modelo\n",
    "with open('finished_model_arima_multiple.model', \"rb\") as archivo_entrada:\n",
    "    list_models = pickle.load(archivo_entrada)\n",
    "    \n",
    "print(list_models)"
   ]
  },
  {
   "cell_type": "markdown",
   "metadata": {},
   "source": [
    "#### Predicciones para las 9 variables"
   ]
  },
  {
   "cell_type": "code",
   "execution_count": 18,
   "metadata": {},
   "outputs": [
    {
     "data": {
      "text/plain": [
       "[array([13.27465542, 13.58311355]),\n",
       " array([1.38929802, 1.39687785]),\n",
       " array([0.09996029, 0.09992312]),\n",
       " array([26.60162879, 26.23467323]),\n",
       " array([0.9972544 , 0.99432561]),\n",
       " array([76.12042916, 76.26562191]),\n",
       " array([1.6088282 , 1.57856887]),\n",
       " array([0.4245239 , 0.43747536])]"
      ]
     },
     "execution_count": 18,
     "metadata": {},
     "output_type": "execute_result"
    }
   ],
   "source": [
    "pred_list = []\n",
    "for i in list_models:\n",
    "    predictions = i.predict(n_periods= 2)\n",
    "    pred_list.append(predictions)\n",
    "\n",
    "pred_list"
   ]
  },
  {
   "cell_type": "code",
   "execution_count": null,
   "metadata": {},
   "outputs": [],
   "source": []
  }
 ],
 "metadata": {
  "interpreter": {
   "hash": "aee8b7b246df8f9039afb4144a1f6fd8d2ca17a180786b69acc140d282b71a49"
  },
  "kernelspec": {
   "display_name": "Python 3.7.4 64-bit",
   "language": "python",
   "name": "python3"
  },
  "language_info": {
   "codemirror_mode": {
    "name": "ipython",
    "version": 3
   },
   "file_extension": ".py",
   "mimetype": "text/x-python",
   "name": "python",
   "nbconvert_exporter": "python",
   "pygments_lexer": "ipython3",
   "version": "3.7.12"
  },
  "orig_nbformat": 4
 },
 "nbformat": 4,
 "nbformat_minor": 2
}
